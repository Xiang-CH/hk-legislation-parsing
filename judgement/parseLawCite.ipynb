{
 "cells": [
  {
   "cell_type": "code",
   "execution_count": null,
   "id": "1e3f66e2",
   "metadata": {},
   "outputs": [],
   "source": [
    "from selenium import webdriver\n",
    "from selenium.webdriver.chrome.options import Options\n",
    "from selenium.webdriver.common.by import By\n",
    "from selenium.webdriver.support.ui import WebDriverWait\n",
    "from selenium.webdriver.support import expected_conditions as EC"
   ]
  },
  {
   "cell_type": "code",
   "execution_count": null,
   "id": "61e0b889",
   "metadata": {},
   "outputs": [],
   "source": [
    "headers = {\n",
    "    'accept': 'text/html,application/xhtml+xml,application/xml;q=0.9,image/avif,image/webp,image/apng,*/*;q=0.8,application/signed-exchange;v=b3;q=0.7',\n",
    "    'accept-encoding': 'gzip, deflate, br, zstd',\n",
    "    'connection': 'keep-alive',\n",
    "    'host': 'austlii.edu.au',\n",
    "    'referer': 'https://austlii.edu.au/',\n",
    "    'sec-ch-ua': '\"Not)A;Brand\";v=\"8\", \"Chromium\";v=\"138\", \"Google Chrome\";v=\"138\"',\n",
    "    'sec-ch-ua-mobile': '?0',\n",
    "    'sec-ch-ua-platform': '\"macOS\"',\n",
    "    'sec-fetch-dest': 'document',\n",
    "    'sec-fetch-mode': 'navigate',\n",
    "    'sec-fetch-site': 'same-origin',\n",
    "    'sec-fetch-user': '?1',\n",
    "    'upgrade-insecure-requests': '1',\n",
    "    'user-agent': 'Mozilla/5.0 (Macintosh; Intel Mac OS X 10_15_7) AppleWebKit/537.36 (KHTML, like Gecko) Chrome/138.0.0.0 Safari/537.36'\n",
    "}\n",
    "URL = \"http://www.lawcite.org\""
   ]
  },
  {
   "cell_type": "code",
   "execution_count": null,
   "id": "4ac7ce68",
   "metadata": {},
   "outputs": [],
   "source": [
    "# Set up Chrome options\n",
    "chrome_options = Options()\n",
    "# chrome_options.add_argument(\"--headless\")  # Run in headless mode\n",
    "chrome_options.add_argument(\"--no-sandbox\")  # Bypass OS security model\n",
    "chrome_options.add_argument(f'user-agent={headers[\"user-agent\"]}')\n",
    "\n",
    "driver = webdriver.Chrome(options=chrome_options)\n",
    "driver.get(URL)\n",
    "driver.implicitly_wait(0)\n",
    "\n",
    "# Search for \"Hong Kong\" in the juris field\n",
    "juris_input = driver.find_element(By.ID, \"juris\")\n",
    "juris_input.send_keys(\"Hong Kong\")\n",
    "juris_input.submit()\n",
    "\n",
    "# Allow large page loads\n",
    "if len(driver.find_elements(By.CLASS_NAME, \"message-box\")) > 0:\n",
    "    continue_button = driver.find_element(By.CSS_SELECTOR,\"input[type='submit'][value='Continue']\")\n",
    "    continue_button.click()\n",
    "\n",
    "wait = WebDriverWait(driver, 20)\n",
    "\n",
    "# Ensure results are present (adjust selector to your table/container)\n",
    "results_rows = wait.until(EC.presence_of_all_elements_located(\n",
    "    (By.CSS_SELECTOR, \"table tr\")))  # refine selector if you can\n",
    "first_row = results_rows[0] if results_rows else None\n",
    "\n",
    "# Click “Sort by Citation Frequency”\n",
    "sort_link = wait.until(EC.element_to_be_clickable(\n",
    "    (By.CSS_SELECTOR, \"a[title='Sort by Citation Frequency']\")))\n",
    "try:\n",
    "    sort_link.click()\n",
    "except Exception:\n",
    "    driver.execute_script(\"arguments[0].click();\", sort_link)\n",
    "\n",
    "# Sort by Citation Index\n",
    "sort_button = driver.find_element(By.CSS_SELECTOR, \"a[title='Sort by Citation Frequency']\")\n",
    "sort_button.click()\n",
    "\n",
    "driver.page_source  # This will load the page content\n",
    "with open(\"lawcite.html\", \"w\", encoding=\"utf-8\") as file:\n",
    "    file.write(driver.page_source)"
   ]
  },
  {
   "cell_type": "code",
   "execution_count": null,
   "id": "55a706e4",
   "metadata": {},
   "outputs": [
    {
     "data": {
      "text/plain": [
       "True"
      ]
     },
     "execution_count": 1,
     "metadata": {},
     "output_type": "execute_result"
    }
   ],
   "source": [
    "import pandas as pd\n",
    "import os\n",
    "import requests\n",
    "from dotenv import load_dotenv\n",
    "\n",
    "load_dotenv()"
   ]
  },
  {
   "cell_type": "code",
   "execution_count": 6,
   "id": "9b8bd882",
   "metadata": {},
   "outputs": [
    {
     "data": {
      "text/html": [
       "<div>\n",
       "<style scoped>\n",
       "    .dataframe tbody tr th:only-of-type {\n",
       "        vertical-align: middle;\n",
       "    }\n",
       "\n",
       "    .dataframe tbody tr th {\n",
       "        vertical-align: top;\n",
       "    }\n",
       "\n",
       "    .dataframe thead th {\n",
       "        text-align: right;\n",
       "    }\n",
       "</style>\n",
       "<table border=\"1\" class=\"dataframe\">\n",
       "  <thead>\n",
       "    <tr style=\"text-align: right;\">\n",
       "      <th></th>\n",
       "      <th>Case Name</th>\n",
       "      <th>Citation(s)</th>\n",
       "      <th>Court</th>\n",
       "      <th>Jurisdiction</th>\n",
       "      <th>Date</th>\n",
       "      <th>Full Text</th>\n",
       "      <th>Unnamed: 6</th>\n",
       "      <th>Citation Index †</th>\n",
       "    </tr>\n",
       "  </thead>\n",
       "  <tbody>\n",
       "    <tr>\n",
       "      <th>0</th>\n",
       "      <td>Chan Kam Nga v Director of Immigration</td>\n",
       "      <td>[1999] HKCFA 16; [1999] 1 HKC 347; (1999) 2 HK...</td>\n",
       "      <td>Hong Kong Court of Final Appeal</td>\n",
       "      <td>Hong Kong</td>\n",
       "      <td>29 Jan 1999</td>\n",
       "      <td>HKLII</td>\n",
       "      <td>NaN</td>\n",
       "      <td>5051.0</td>\n",
       "    </tr>\n",
       "    <tr>\n",
       "      <th>1</th>\n",
       "      <td>Nupur Mst v Director of Immigration</td>\n",
       "      <td>[2018] HKCA 524</td>\n",
       "      <td>Hong Kong Court of Appeal</td>\n",
       "      <td>Hong Kong</td>\n",
       "      <td>16 Aug 2018</td>\n",
       "      <td>HKLII</td>\n",
       "      <td>NaN</td>\n",
       "      <td>3994.0</td>\n",
       "    </tr>\n",
       "  </tbody>\n",
       "</table>\n",
       "</div>"
      ],
      "text/plain": [
       "                                Case Name  \\\n",
       "0  Chan Kam Nga v Director of Immigration   \n",
       "1     Nupur Mst v Director of Immigration   \n",
       "\n",
       "                                         Citation(s)  \\\n",
       "0  [1999] HKCFA 16; [1999] 1 HKC 347; (1999) 2 HK...   \n",
       "1                                    [2018] HKCA 524   \n",
       "\n",
       "                             Court Jurisdiction         Date Full Text  \\\n",
       "0  Hong Kong Court of Final Appeal    Hong Kong  29 Jan 1999     HKLII   \n",
       "1        Hong Kong Court of Appeal    Hong Kong  16 Aug 2018     HKLII   \n",
       "\n",
       "   Unnamed: 6  Citation Index †  \n",
       "0         NaN            5051.0  \n",
       "1         NaN            3994.0  "
      ]
     },
     "execution_count": 6,
     "metadata": {},
     "output_type": "execute_result"
    }
   ],
   "source": [
    "df = pd.read_html(\"lawcite.html\", header=0)[1]\n",
    "df.head(2)"
   ]
  },
  {
   "cell_type": "code",
   "execution_count": null,
   "id": "ceb0de96",
   "metadata": {},
   "outputs": [
    {
     "name": "stdout",
     "output_type": "stream",
     "text": [
      "Index(['Case Name', 'Citation(s)', 'Court', 'Jurisdiction', 'Date',\n",
      "       'Full Text', 'Citation Index'],\n",
      "      dtype='object')\n"
     ]
    },
    {
     "data": {
      "text/html": [
       "<div>\n",
       "<style scoped>\n",
       "    .dataframe tbody tr th:only-of-type {\n",
       "        vertical-align: middle;\n",
       "    }\n",
       "\n",
       "    .dataframe tbody tr th {\n",
       "        vertical-align: top;\n",
       "    }\n",
       "\n",
       "    .dataframe thead th {\n",
       "        text-align: right;\n",
       "    }\n",
       "</style>\n",
       "<table border=\"1\" class=\"dataframe\">\n",
       "  <thead>\n",
       "    <tr style=\"text-align: right;\">\n",
       "      <th></th>\n",
       "      <th>Case Name</th>\n",
       "      <th>Citation(s)</th>\n",
       "      <th>Court</th>\n",
       "      <th>Jurisdiction</th>\n",
       "      <th>Date</th>\n",
       "      <th>Full Text</th>\n",
       "      <th>Citation Index</th>\n",
       "    </tr>\n",
       "  </thead>\n",
       "  <tbody>\n",
       "    <tr>\n",
       "      <th>0</th>\n",
       "      <td>Chan Kam Nga v Director of Immigration</td>\n",
       "      <td>[1999] HKCFA 16; [1999] 1 HKC 347; (1999) 2 HK...</td>\n",
       "      <td>Hong Kong Court of Final Appeal</td>\n",
       "      <td>Hong Kong</td>\n",
       "      <td>29 Jan 1999</td>\n",
       "      <td>HKLII</td>\n",
       "      <td>5051.0</td>\n",
       "    </tr>\n",
       "    <tr>\n",
       "      <th>1</th>\n",
       "      <td>Nupur Mst v Director of Immigration</td>\n",
       "      <td>[2018] HKCA 524</td>\n",
       "      <td>Hong Kong Court of Appeal</td>\n",
       "      <td>Hong Kong</td>\n",
       "      <td>16 Aug 2018</td>\n",
       "      <td>HKLII</td>\n",
       "      <td>3994.0</td>\n",
       "    </tr>\n",
       "    <tr>\n",
       "      <th>2</th>\n",
       "      <td>TK v Jenkins</td>\n",
       "      <td>[2012] HKCA 502; [2013] 1 HKC 526</td>\n",
       "      <td>Hong Kong Court of Appeal</td>\n",
       "      <td>Hong Kong</td>\n",
       "      <td>21 Nov 2012</td>\n",
       "      <td>HKLII</td>\n",
       "      <td>3110.0</td>\n",
       "    </tr>\n",
       "    <tr>\n",
       "      <th>3</th>\n",
       "      <td>Re Lakhwinder Singh</td>\n",
       "      <td>[2018] HKCA 246</td>\n",
       "      <td>Hong Kong Court of Appeal</td>\n",
       "      <td>Hong Kong</td>\n",
       "      <td>1 Jun 2018</td>\n",
       "      <td>HKLII</td>\n",
       "      <td>1921.0</td>\n",
       "    </tr>\n",
       "    <tr>\n",
       "      <th>4</th>\n",
       "      <td>Re Daljit Singh</td>\n",
       "      <td>[2018] HKCA 328</td>\n",
       "      <td>Hong Kong Court of Appeal</td>\n",
       "      <td>Hong Kong</td>\n",
       "      <td>17 Jul 2018</td>\n",
       "      <td>HKLII</td>\n",
       "      <td>1880.0</td>\n",
       "    </tr>\n",
       "  </tbody>\n",
       "</table>\n",
       "</div>"
      ],
      "text/plain": [
       "                                Case Name  \\\n",
       "0  Chan Kam Nga v Director of Immigration   \n",
       "1     Nupur Mst v Director of Immigration   \n",
       "2                            TK v Jenkins   \n",
       "3                     Re Lakhwinder Singh   \n",
       "4                         Re Daljit Singh   \n",
       "\n",
       "                                         Citation(s)  \\\n",
       "0  [1999] HKCFA 16; [1999] 1 HKC 347; (1999) 2 HK...   \n",
       "1                                    [2018] HKCA 524   \n",
       "2                  [2012] HKCA 502; [2013] 1 HKC 526   \n",
       "3                                    [2018] HKCA 246   \n",
       "4                                    [2018] HKCA 328   \n",
       "\n",
       "                             Court Jurisdiction         Date Full Text  \\\n",
       "0  Hong Kong Court of Final Appeal    Hong Kong  29 Jan 1999     HKLII   \n",
       "1        Hong Kong Court of Appeal    Hong Kong  16 Aug 2018     HKLII   \n",
       "2        Hong Kong Court of Appeal    Hong Kong  21 Nov 2012     HKLII   \n",
       "3        Hong Kong Court of Appeal    Hong Kong   1 Jun 2018     HKLII   \n",
       "4        Hong Kong Court of Appeal    Hong Kong  17 Jul 2018     HKLII   \n",
       "\n",
       "   Citation Index  \n",
       "0          5051.0  \n",
       "1          3994.0  \n",
       "2          3110.0  \n",
       "3          1921.0  \n",
       "4          1880.0  "
      ]
     },
     "execution_count": 14,
     "metadata": {},
     "output_type": "execute_result"
    }
   ],
   "source": [
    "df = pd.read_html(\"lawcite.html\", header=0)[1]\n",
    "df.columns = df.columns.str.strip()\n",
    "df = df.dropna(axis=1, how='all')  # Drop columns that are completely empty\n",
    "df.columns = df.columns.str.replace('†', '', regex=False)  # Remove '†' from column names\n",
    "df.columns = df.columns.str.strip() # Clean up column names\n",
    "print(df.columns)  # Check column names after cleaning\n",
    "\n",
    "df[\"Citation Index\"] = df[\"Citation Index\"].astype(float)  # Ensure 'Citation Index' is treated as string\n",
    "df.sort_values(by=\"Citation Index\", inplace=True, ascending=False)  # Sort by 'Citation Index'\n",
    "df.to_csv(\"law_cite_data.csv\", index=False)\n",
    "df.head()"
   ]
  },
  {
   "cell_type": "code",
   "execution_count": null,
   "id": "6be26197",
   "metadata": {},
   "outputs": [],
   "source": [
    "len(df[df[\"Citation Index\"] >= 100])"
   ]
  },
  {
   "cell_type": "code",
   "execution_count": null,
   "id": "bdb68c30",
   "metadata": {},
   "outputs": [],
   "source": [
    "len(df[df[\"Citation Index\"] >= 50])"
   ]
  },
  {
   "cell_type": "code",
   "execution_count": null,
   "id": "4a83df9c",
   "metadata": {},
   "outputs": [],
   "source": [
    "len(df[df[\"Citation Index\"] >= 10])"
   ]
  },
  {
   "cell_type": "code",
   "execution_count": null,
   "id": "730c0623",
   "metadata": {},
   "outputs": [],
   "source": [
    "len(df[df[\"Citation Index\"] >= 1])"
   ]
  },
  {
   "cell_type": "code",
   "execution_count": null,
   "id": "7ac64a9c",
   "metadata": {},
   "outputs": [],
   "source": [
    "len(df[df[\"Citation Index\"].isna()])  # Count non-null entries in 'Citation Index'"
   ]
  }
 ],
 "metadata": {
  "kernelspec": {
   "display_name": "base",
   "language": "python",
   "name": "python3"
  },
  "language_info": {
   "codemirror_mode": {
    "name": "ipython",
    "version": 3
   },
   "file_extension": ".py",
   "mimetype": "text/x-python",
   "name": "python",
   "nbconvert_exporter": "python",
   "pygments_lexer": "ipython3",
   "version": "3.11.5"
  }
 },
 "nbformat": 4,
 "nbformat_minor": 5
}
